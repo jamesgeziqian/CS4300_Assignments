{
  "nbformat": 4,
  "nbformat_minor": 0,
  "metadata": {
    "colab": {
      "name": "Copy of DS4440-HW2-starter.ipynb",
      "provenance": [],
      "collapsed_sections": [],
      "include_colab_link": true
    },
    "kernelspec": {
      "name": "python3",
      "display_name": "Python 3"
    }
  },
  "cells": [
    {
      "cell_type": "markdown",
      "metadata": {
        "id": "view-in-github",
        "colab_type": "text"
      },
      "source": [
        "<a href=\"https://colab.research.google.com/github/jamesgeziqian/CS4300_Assignments/blob/master/DS4440_HW2_starter.ipynb\" target=\"_parent\"><img src=\"https://colab.research.google.com/assets/colab-badge.svg\" alt=\"Open In Colab\"/></a>"
      ]
    },
    {
      "cell_type": "markdown",
      "metadata": {
        "id": "gJ8bnBQfHFhX"
      },
      "source": [
        "# DS 4440: HW2\n",
        "\n",
        "Due 10/1!"
      ]
    },
    {
      "cell_type": "code",
      "metadata": {
        "id": "KvODLT9fHDGY"
      },
      "source": [
        "import numpy as np # NumPy only!"
      ],
      "execution_count": null,
      "outputs": []
    },
    {
      "cell_type": "markdown",
      "metadata": {
        "id": "aQop755dHDbD"
      },
      "source": [
        "## Q1. Implement the MLP class \n",
        "\n",
        "You *must* include `fit` and `predict` methods. You may (and probably should) of course implement other functions, as needed. "
      ]
    },
    {
      "cell_type": "code",
      "metadata": {
        "id": "BmCh9eJIHNR_"
      },
      "source": [
        "class MLP:\n",
        "\n",
        "    def __init__(self, input_size, hidden_dims=32, alpha=.2):\n",
        "        '''\n",
        "        Instantiate MLP using given parameters. \n",
        "        \n",
        "        You may assume that there is only a single hidden layer\n",
        "        (i.e., you need not generalize to handle arbitrary numbers of\n",
        "        hidden layers).\n",
        "        \n",
        "        \\alpha is the learning rate.\n",
        "        '''\n",
        "        pass \n",
        "  \n",
        "\n",
        "    def predict(self, X):\n",
        "        '''\n",
        "        Yield predictions \\hat{y} for instances X.\n",
        "        '''\n",
        "        pass \n",
        "      \n",
        "\n",
        "    def fit(self, X, y, epochs=10, verbose=True):\n",
        "        '''\n",
        "        Train the model via backprop for the specified number of epochs.\n",
        "        '''\n",
        "        pass "
      ],
      "execution_count": null,
      "outputs": []
    },
    {
      "cell_type": "markdown",
      "metadata": {
        "id": "gOXTpMLXIAYC"
      },
      "source": [
        "## Q2. Test the Implementation\n",
        "\n",
        "You should: \n",
        "\n",
        "\n",
        "\n",
        "*  Use sklearn `make_classification` to create a simple dataset comprising 1000 samples -- be sure to include both informative and noisy features!\n",
        "* Split this into equal sized disjoint train and test sets. \n",
        "* Instantiate your MLP and fit to the train data\n",
        "* Instantiate the MLP defined in `sklearn.neural_network.MLP` (using same hyperparameters!) and fit to the train data.\n",
        "* Make predictions for the test dataset using both models, generate metrics using `classification_report` from `sklearn`.\n",
        "* Assert (by inspection is fine) that these models achieve comparable results (**Hint** the MLP may be sensitive to the number of epochs -- as per the following question.)\n",
        "\n",
        "\n",
        "Sample output below -- feel free to elaborate. "
      ]
    },
    {
      "cell_type": "code",
      "metadata": {
        "id": "1ed2b9xdHiBj",
        "outputId": "e26a4c92-f67b-4c90-8e64-3223f548fc6a",
        "colab": {
          "base_uri": "https://localhost:8080/",
          "height": 391
        }
      },
      "source": [
        ""
      ],
      "execution_count": null,
      "outputs": [
        {
          "output_type": "stream",
          "text": [
            "performance of above MLP implementation:\n",
            "              precision    recall  f1-score   support\n",
            "\n",
            "           0       0.91      0.94      0.93       243\n",
            "           1       0.94      0.91      0.93       257\n",
            "\n",
            "   micro avg       0.93      0.93      0.93       500\n",
            "   macro avg       0.93      0.93      0.93       500\n",
            "weighted avg       0.93      0.93      0.93       500\n",
            "\n",
            "0.926\n",
            "performance of sklearn implementation:\n",
            "              precision    recall  f1-score   support\n",
            "\n",
            "           0       0.95      0.95      0.95       243\n",
            "           1       0.96      0.95      0.96       257\n",
            "\n",
            "   micro avg       0.95      0.95      0.95       500\n",
            "   macro avg       0.95      0.95      0.95       500\n",
            "weighted avg       0.95      0.95      0.95       500\n",
            "\n",
            "0.954\n"
          ],
          "name": "stdout"
        }
      ]
    },
    {
      "cell_type": "markdown",
      "metadata": {
        "id": "XI0EK7w6UDIU"
      },
      "source": [
        "## Q3 Exploring the bias-variance trade-off"
      ]
    },
    {
      "cell_type": "markdown",
      "metadata": {
        "id": "JS0n7rWn4PLw"
      },
      "source": [
        "#### A. \n",
        "Using `matplotlib` (see [here](https://https://colab.research.google.com/notebooks/charts.ipynb#scrollTo=08RTGn_xE3MP)), plot train and test performances as a function of epochs"
      ]
    },
    {
      "cell_type": "code",
      "metadata": {
        "id": "GuYnfWgNUEdk"
      },
      "source": [
        ""
      ],
      "execution_count": null,
      "outputs": []
    },
    {
      "cell_type": "code",
      "metadata": {
        "id": "8C9ZXVdGV6Qr",
        "outputId": "7432b228-5a25-40a6-ce9b-54e076d9d88f",
        "colab": {
          "base_uri": "https://localhost:8080/",
          "height": 364
        }
      },
      "source": [
        ""
      ],
      "execution_count": null,
      "outputs": [
        {
          "output_type": "execute_result",
          "data": {
            "text/plain": [
              "<matplotlib.legend.Legend at 0x7f4eb4a2eb38>"
            ]
          },
          "metadata": {
            "tags": []
          },
          "execution_count": 6
        },
        {
          "output_type": "display_data",
          "data": {
            "image/png": "[encoded data removed]",
            "text/plain": [
              "<matplotlib.figure.Figure at 0x7f4eb6b7f908>"
            ]
          },
          "metadata": {
            "tags": []
          }
        }
      ]
    },
    {
      "cell_type": "markdown",
      "metadata": {
        "id": "7PpYkaSgvRQw"
      },
      "source": [
        "#### B.\n",
        "Let's see how additional hidden dims affect this (if at all)"
      ]
    },
    {
      "cell_type": "code",
      "metadata": {
        "id": "wN1xf-TttfT8"
      },
      "source": [
        ""
      ],
      "execution_count": null,
      "outputs": []
    },
    {
      "cell_type": "code",
      "metadata": {
        "id": "EYccLK6_wA6f",
        "outputId": "b0edf718-b871-471d-b8c4-db4f32c22b02",
        "colab": {
          "base_uri": "https://localhost:8080/",
          "height": 364
        }
      },
      "source": [
        ""
      ],
      "execution_count": null,
      "outputs": [
        {
          "output_type": "execute_result",
          "data": {
            "text/plain": [
              "<matplotlib.legend.Legend at 0x7f4eb21e1cf8>"
            ]
          },
          "metadata": {
            "tags": []
          },
          "execution_count": 8
        },
        {
          "output_type": "display_data",
          "data": {
            "image/png": "[encoded data removed]",
            "text/plain": [
              "<matplotlib.figure.Figure at 0x7f4eb21b9a90>"
            ]
          },
          "metadata": {
            "tags": []
          }
        }
      ]
    },
    {
      "cell_type": "markdown",
      "metadata": {
        "id": "k4sXuaM-wln3"
      },
      "source": [
        "So we can see the overfitting is more pronounced when we have more dimensions (free parameters)"
      ]
    },
    {
      "cell_type": "markdown",
      "metadata": {
        "id": "hm387Opr0gQ3"
      },
      "source": [
        "## Q4 Modify your implementation above to be a multi-class MLP\n",
        "\n",
        "We recommend making a copy of your code above; you may see why in your implementation."
      ]
    },
    {
      "cell_type": "code",
      "metadata": {
        "id": "w8PEbS9i0pqZ"
      },
      "source": [
        "class MMLP:\n",
        "\n",
        "    def __init__(self, input_size, output_size, hidden_dims=32, alpha=.2):\n",
        "        '''\n",
        "        Instantiate MLP using given parameters. \n",
        "        \n",
        "        You may assume that there is only a single hidden layer\n",
        "        (i.e., you need not generalize to handle arbitrary numbers of\n",
        "        hidden layers).\n",
        "        \n",
        "        \\alpha is the learning rate.\n",
        "        '''\n",
        "        assert(output_size > 1)\n",
        "        pass \n",
        "  \n",
        "\n",
        "    def predict(self, X):\n",
        "        '''\n",
        "        Yield predictions \\hat{y} for instances X. To match the data generation \n",
        "        process, return the index of the highest performing class.\n",
        "        '''\n",
        "        pass \n",
        "      \n",
        "\n",
        "    def fit(self, X, y, epochs=10, verbose=True):\n",
        "        '''\n",
        "        Train the model via backprop for the specified number of epochs.\n",
        "       \n",
        "        '''\n",
        "        pass "
      ],
      "execution_count": null,
      "outputs": []
    },
    {
      "cell_type": "markdown",
      "metadata": {
        "id": "z9c8vBOP0qlb"
      },
      "source": [
        "## Q5 Implement Precision, Recall, micro-averaged F1, macro-averaged F1"
      ]
    },
    {
      "cell_type": "code",
      "metadata": {
        "id": "3OwizskG1QW0"
      },
      "source": [
        ""
      ],
      "execution_count": null,
      "outputs": []
    },
    {
      "cell_type": "markdown",
      "metadata": {
        "id": "4zextkap1Qkg"
      },
      "source": [
        "## Q6 Explore the bias-variance trade-off for multi-class classification.\n",
        "\n",
        "You should: \n",
        "\n",
        "\n",
        "*  Use sklearn `make_classification` to create a simple dataset comprising 2000 samples -- be sure to include both informative and noisy features! Use 5 classes for the moment.\n",
        "* Split this into equal sized disjoint train and test sets. \n",
        "* Instantiate your MMLP and fit to the train data\n",
        "* Explore bias/variance/precision/recall trade-offs as defined in the homework.\n",
        "\n",
        "You might wish to check your model against `sklearn.neural_network.MLP` but we do not require this."
      ]
    },
    {
      "cell_type": "code",
      "metadata": {
        "id": "rRqh938n1V0S"
      },
      "source": [
        ""
      ],
      "execution_count": null,
      "outputs": []
    }
  ]
}